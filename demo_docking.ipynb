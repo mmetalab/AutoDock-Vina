{
 "cells": [
  {
   "cell_type": "code",
   "execution_count": 1,
   "metadata": {},
   "outputs": [
    {
     "name": "stdout",
     "output_type": "stream",
     "text": [
      "Downloading PDB structure '1hsg'...\n"
     ]
    }
   ],
   "source": [
    "#Downloading the PDB files using biopython\n",
    "import os\n",
    "from Bio.PDB import *\n",
    "pdbid = ['1hsg']\n",
    "pdbl = PDBList()\n",
    "for s in pdbid:\n",
    "  pdbl.retrieve_pdb_file(s, pdir='.', file_format =\"pdb\", overwrite=True)\n",
    "  os.rename(\"pdb\"+s+\".ent\", s+\".pdb\")"
   ]
  },
  {
   "cell_type": "code",
   "execution_count": 3,
   "metadata": {},
   "outputs": [
    {
     "name": "stdout",
     "output_type": "stream",
     "text": [
      "path already exists\n",
      "file successfully created\n"
     ]
    }
   ],
   "source": [
    "#This script will create a folder called \"single-docking\" for our experiment\n",
    "#Then, it will print all \"ATOM\" and \"TER\" lines from a given PDB into a new file\n",
    "\n",
    "#Let's make a folder first. We need to import the os and path library\n",
    "import os\n",
    "from pathlib import Path\n",
    "\n",
    "#Then, we define the path of the folder we want to create.\n",
    "#Notice that the HOME folder for a hosted runtime in colab is /content/\n",
    "singlepath = Path(\"/Users/chengwang/Documents/Github/AutoDock-Vina/single-dock/\")\n",
    "#Now, we create the folder using the os.mkdir() command\n",
    "#The if conditional is just to check whether the folder already exists\n",
    "#In which case, python returns an error\n",
    "if os.path.exists(singlepath):\n",
    "  print(\"path already exists\")\n",
    "if not os.path.exists(singlepath):\n",
    "  os.mkdir(singlepath)\n",
    "  print(\"path was succesfully created\")\n",
    "\n",
    "#Now we assign a variable \"protein\" with the name and extension of our pdb\n",
    "protein = \"1hsg.pdb\"\n",
    "\n",
    "#And we use the following script to selectively print the lines that contain the\n",
    "#string \"ATOM\" and \"TER\" into a new file inside our recently created folder\n",
    "with open(singlepath / \"1hsg_prot.pdb\",\"w\") as g:\n",
    "  f = open(protein,'r')\n",
    "  for line in f:\n",
    "    row = line.split()\n",
    "    if row[0] == \"ATOM\":\n",
    "      g.write(line)\n",
    "    elif row[0] == \"TER\":\n",
    "      g.write(\"TER\\n\")\n",
    "  g.write(\"END\")\n",
    "  print(\"file successfully created\")"
   ]
  },
  {
   "cell_type": "code",
   "execution_count": null,
   "metadata": {},
   "outputs": [],
   "source": []
  }
 ],
 "metadata": {
  "kernelspec": {
   "display_name": "dockscreen",
   "language": "python",
   "name": "python3"
  },
  "language_info": {
   "codemirror_mode": {
    "name": "ipython",
    "version": 3
   },
   "file_extension": ".py",
   "mimetype": "text/x-python",
   "name": "python",
   "nbconvert_exporter": "python",
   "pygments_lexer": "ipython3",
   "version": "3.8.17"
  },
  "orig_nbformat": 4
 },
 "nbformat": 4,
 "nbformat_minor": 2
}
